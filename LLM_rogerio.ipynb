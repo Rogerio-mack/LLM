{
  "nbformat": 4,
  "nbformat_minor": 0,
  "metadata": {
    "colab": {
      "provenance": [],
      "toc_visible": true,
      "authorship_tag": "ABX9TyPhJF3KR0JkPbZeRVJrgWob",
      "include_colab_link": true
    },
    "kernelspec": {
      "name": "python3",
      "display_name": "Python 3"
    },
    "language_info": {
      "name": "python"
    }
  },
  "cells": [
    {
      "cell_type": "markdown",
      "metadata": {
        "id": "view-in-github",
        "colab_type": "text"
      },
      "source": [
        "<a href=\"https://colab.research.google.com/github/Rogerio-mack/LLM/blob/main/LLM_rogerio.ipynb\" target=\"_parent\"><img src=\"https://colab.research.google.com/assets/colab-badge.svg\" alt=\"Open In Colab\"/></a>"
      ]
    },
    {
      "cell_type": "markdown",
      "source": [
        "# **1.2.1 Princípios dos grandes modelos de linguagem**\n",
        "\n",
        "Modelos de linguagem são modelos probabilísticos que se baseiam em modelar a distribuição de probabilidade conjunta de *tokens* (unidades significativas de texto, podendo ser letras, palavras ou subpartes das palavras) de *corpus* de documentos texto (páginas da internet, publicações etc.), criando uma representação útil desses dados que pode ser empregada para uma série de tarefas de processamento de linguagem natural, como a geração de texto, tradução automática, sumarização e responder a perguntas com base no conteúdo representado.\n",
        "\n",
        "Esses modelos são hoje dominados pelo emprego de redes neurais profundas em que o treinamento consiste em ajustar os pesos de uma rede neural com um grande número de camadas e elementos (de dezenas de centenas a bilhões) aos dados que se deseja representar.\n",
        "\n",
        "Redes neurais recorrentes, principalmente LSTMs (Long Short-Term Memory (Hochreiter & Schmidhuber, 1997)) foram empregadas com bastante sucesso até meados de 2017 para criar modelos de linguagem (Vaswani et al., 2017). Intuitivamente, ao lermos um texto as palavras anteriores influenciam, ou mesmo determinam,o significado de uma determinada palavra (como no caso da palavra \"manga\", em \"A camisa tinha uma manga longa\" ou \"Comi a manga no café da manhã\"). Modelos de redes recorrentes como o LSTM buscam então capturar e armazenar, ao processar sequencialmente um conjunto de palavras, os pesos que representam todos os termos anteriores. Essa arquitetura, entretanto, se mostra bastante custosa em termos computacionais e limitada para processamento paralelo (quase uma exigência para o processamento em escala).\n",
        "\n",
        "Hoje os modelos de linguagem são dominados baseados em uma arquitetura denominada *transformers* (Vaswani et al., 2017) que dispensa o custoso aprendizado de longas cadeias recorrentes e permite ainda o processamento paralelo, proporcionando grande escalabilidade dos modelos.\n",
        "\n",
        "Para os nossos propósitos, de construir aplicações que fazem uso de grandes modelos de linguagem, não é necessário conhecermos todos detalhes detalhes da arquitetura transformers, mas alguns conceitos parecem ser fundamentais e permitem entender mais claramente os diferentes modelos, suas capacidades, diferenças e usos. Esses conceitos são tratados e exemplificados a seguir.\n",
        "\n",
        "<br>\n",
        "\n",
        "Hochreiter, S., & Schmidhuber, J. (1997). Long short-term memory. Neural computation, 9(8), 1735-1780.\n",
        "\n",
        "Vaswani, A., Shazeer, N., Parmar, N., Uszkoreit, J., Jones, L., Gomez, A. N., ... & Polosukhin, I. (2017). Attention is all you need. Advances in neural information processing systems, 30.\n"
      ],
      "metadata": {
        "id": "I7kykRDExEIE"
      }
    },
    {
      "cell_type": "markdown",
      "source": [
        "# *a. Tokens, Embeddings, Transformers e o Mecanismo de Atenção*\n",
        "\n",
        "Os grandes modelos de linguagem, como modelos de redes neurais profundas, são basicamente modelos que processam entradas por sucessivas camadas de neurônios (os elementos) da rede. No caso da arquitetura transformers há dois conjuntos de camadas distintas, a de encode e a de decode. O mecanismo de atenção é o mecanismo chave que relaciona diferentes elementos (unidades como termos, palavras representados por *tokens*) de uma única sequência para computar uma representação da sequência, o que permite criar representações sem o uso recorrências ou convoluções dos elementos (Vaswani et al., 2017). A Figura 1, mostra uma representação simplificada dessa arquitetura omitindo uma série de detalhes como camadas de normalização, múltiplas *cabeças de atenção* empregadas etc. mas suficientemente útil para os nossos propósitos.\n",
        "\n",
        "**Tokens**. Para o processamento de linguagem natural um texto ou as palavras, precisam ter uma representação vetorial, ou *embedding*. Ao longo do processamento do modelo várias representação vetoriais são produzidas a cada processamento. A tokenização é uma etapa essencial para construção dos embeddings em que um texto é dividido em unidades menores\n",
        "chamadas tokens que, a depender do modelo, podem ser palavras, subpalavras, caracteres ou símbolos ou palavras, a depender do modelo empregado, cada modelo adotando um dicionário de tokens diferente (para maiores detalhes, ver Mielke et al. 2021). Claramente os tokens há tokens diferentes para português e inglês e, portanto, ou precisamos empregar modelos específicos para língua desejada ou modelo multilingue.\n",
        "\n",
        "<br>\n",
        "\n",
        "\n",
        "Mielke, S. J., Alyafeai, Z., Salesky, E., Raffel, C., Dey, M., Gallé, M., ... & Tan, S. (2021). Between words and characters: A brief history of open-vocabulary modeling and tokenization in NLP. arXiv preprint arXiv:2112.10508."
      ],
      "metadata": {
        "id": "rTqKcu6nAJ7F"
      }
    },
    {
      "cell_type": "markdown",
      "source": [
        "<img src=\"https://github.com/Rogerio-mack/LLM/blob/main/figs/Transformers.png?raw=true\" width=800, align=\"right\">"
      ],
      "metadata": {
        "id": "nVSpEXdBx0A3"
      }
    },
    {
      "cell_type": "markdown",
      "source": [
        "**Figura 1.** Representação simplificada das camadas da arquitetura Transformer, enfatizando as camadas de Encode/Decode e o Mecanismo de Atenção."
      ],
      "metadata": {
        "id": "SdQ01R-xBQkZ"
      }
    },
    {
      "cell_type": "code",
      "source": [
        "!pip install transformers torch\n",
        "!pip install colorama"
      ],
      "metadata": {
        "colab": {
          "base_uri": "https://localhost:8080/"
        },
        "id": "f1J6Iu8EFwVc",
        "outputId": "0e2adac3-d8ea-4e5a-f7fa-f46e388d04d4"
      },
      "execution_count": 1,
      "outputs": [
        {
          "output_type": "stream",
          "name": "stdout",
          "text": [
            "Requirement already satisfied: transformers in /usr/local/lib/python3.10/dist-packages (4.42.4)\n",
            "Requirement already satisfied: torch in /usr/local/lib/python3.10/dist-packages (2.3.1+cu121)\n",
            "Requirement already satisfied: filelock in /usr/local/lib/python3.10/dist-packages (from transformers) (3.15.4)\n",
            "Requirement already satisfied: huggingface-hub<1.0,>=0.23.2 in /usr/local/lib/python3.10/dist-packages (from transformers) (0.23.5)\n",
            "Requirement already satisfied: numpy<2.0,>=1.17 in /usr/local/lib/python3.10/dist-packages (from transformers) (1.26.4)\n",
            "Requirement already satisfied: packaging>=20.0 in /usr/local/lib/python3.10/dist-packages (from transformers) (24.1)\n",
            "Requirement already satisfied: pyyaml>=5.1 in /usr/local/lib/python3.10/dist-packages (from transformers) (6.0.1)\n",
            "Requirement already satisfied: regex!=2019.12.17 in /usr/local/lib/python3.10/dist-packages (from transformers) (2024.5.15)\n",
            "Requirement already satisfied: requests in /usr/local/lib/python3.10/dist-packages (from transformers) (2.31.0)\n",
            "Requirement already satisfied: safetensors>=0.4.1 in /usr/local/lib/python3.10/dist-packages (from transformers) (0.4.3)\n",
            "Requirement already satisfied: tokenizers<0.20,>=0.19 in /usr/local/lib/python3.10/dist-packages (from transformers) (0.19.1)\n",
            "Requirement already satisfied: tqdm>=4.27 in /usr/local/lib/python3.10/dist-packages (from transformers) (4.66.4)\n",
            "Requirement already satisfied: typing-extensions>=4.8.0 in /usr/local/lib/python3.10/dist-packages (from torch) (4.12.2)\n",
            "Requirement already satisfied: sympy in /usr/local/lib/python3.10/dist-packages (from torch) (1.13.1)\n",
            "Requirement already satisfied: networkx in /usr/local/lib/python3.10/dist-packages (from torch) (3.3)\n",
            "Requirement already satisfied: jinja2 in /usr/local/lib/python3.10/dist-packages (from torch) (3.1.4)\n",
            "Requirement already satisfied: fsspec in /usr/local/lib/python3.10/dist-packages (from torch) (2024.6.1)\n",
            "Collecting nvidia-cuda-nvrtc-cu12==12.1.105 (from torch)\n",
            "  Using cached nvidia_cuda_nvrtc_cu12-12.1.105-py3-none-manylinux1_x86_64.whl.metadata (1.5 kB)\n",
            "Collecting nvidia-cuda-runtime-cu12==12.1.105 (from torch)\n",
            "  Using cached nvidia_cuda_runtime_cu12-12.1.105-py3-none-manylinux1_x86_64.whl.metadata (1.5 kB)\n",
            "Collecting nvidia-cuda-cupti-cu12==12.1.105 (from torch)\n",
            "  Using cached nvidia_cuda_cupti_cu12-12.1.105-py3-none-manylinux1_x86_64.whl.metadata (1.6 kB)\n",
            "Collecting nvidia-cudnn-cu12==8.9.2.26 (from torch)\n",
            "  Using cached nvidia_cudnn_cu12-8.9.2.26-py3-none-manylinux1_x86_64.whl.metadata (1.6 kB)\n",
            "Collecting nvidia-cublas-cu12==12.1.3.1 (from torch)\n",
            "  Using cached nvidia_cublas_cu12-12.1.3.1-py3-none-manylinux1_x86_64.whl.metadata (1.5 kB)\n",
            "Collecting nvidia-cufft-cu12==11.0.2.54 (from torch)\n",
            "  Using cached nvidia_cufft_cu12-11.0.2.54-py3-none-manylinux1_x86_64.whl.metadata (1.5 kB)\n",
            "Collecting nvidia-curand-cu12==10.3.2.106 (from torch)\n",
            "  Using cached nvidia_curand_cu12-10.3.2.106-py3-none-manylinux1_x86_64.whl.metadata (1.5 kB)\n",
            "Collecting nvidia-cusolver-cu12==11.4.5.107 (from torch)\n",
            "  Using cached nvidia_cusolver_cu12-11.4.5.107-py3-none-manylinux1_x86_64.whl.metadata (1.6 kB)\n",
            "Collecting nvidia-cusparse-cu12==12.1.0.106 (from torch)\n",
            "  Using cached nvidia_cusparse_cu12-12.1.0.106-py3-none-manylinux1_x86_64.whl.metadata (1.6 kB)\n",
            "Collecting nvidia-nccl-cu12==2.20.5 (from torch)\n",
            "  Using cached nvidia_nccl_cu12-2.20.5-py3-none-manylinux2014_x86_64.whl.metadata (1.8 kB)\n",
            "Collecting nvidia-nvtx-cu12==12.1.105 (from torch)\n",
            "  Using cached nvidia_nvtx_cu12-12.1.105-py3-none-manylinux1_x86_64.whl.metadata (1.7 kB)\n",
            "Requirement already satisfied: triton==2.3.1 in /usr/local/lib/python3.10/dist-packages (from torch) (2.3.1)\n",
            "Collecting nvidia-nvjitlink-cu12 (from nvidia-cusolver-cu12==11.4.5.107->torch)\n",
            "  Downloading nvidia_nvjitlink_cu12-12.6.20-py3-none-manylinux2014_x86_64.whl.metadata (1.5 kB)\n",
            "Requirement already satisfied: MarkupSafe>=2.0 in /usr/local/lib/python3.10/dist-packages (from jinja2->torch) (2.1.5)\n",
            "Requirement already satisfied: charset-normalizer<4,>=2 in /usr/local/lib/python3.10/dist-packages (from requests->transformers) (3.3.2)\n",
            "Requirement already satisfied: idna<4,>=2.5 in /usr/local/lib/python3.10/dist-packages (from requests->transformers) (3.7)\n",
            "Requirement already satisfied: urllib3<3,>=1.21.1 in /usr/local/lib/python3.10/dist-packages (from requests->transformers) (2.0.7)\n",
            "Requirement already satisfied: certifi>=2017.4.17 in /usr/local/lib/python3.10/dist-packages (from requests->transformers) (2024.7.4)\n",
            "Requirement already satisfied: mpmath<1.4,>=1.1.0 in /usr/local/lib/python3.10/dist-packages (from sympy->torch) (1.3.0)\n",
            "Using cached nvidia_cublas_cu12-12.1.3.1-py3-none-manylinux1_x86_64.whl (410.6 MB)\n",
            "Using cached nvidia_cuda_cupti_cu12-12.1.105-py3-none-manylinux1_x86_64.whl (14.1 MB)\n",
            "Using cached nvidia_cuda_nvrtc_cu12-12.1.105-py3-none-manylinux1_x86_64.whl (23.7 MB)\n",
            "Using cached nvidia_cuda_runtime_cu12-12.1.105-py3-none-manylinux1_x86_64.whl (823 kB)\n",
            "Using cached nvidia_cudnn_cu12-8.9.2.26-py3-none-manylinux1_x86_64.whl (731.7 MB)\n",
            "Using cached nvidia_cufft_cu12-11.0.2.54-py3-none-manylinux1_x86_64.whl (121.6 MB)\n",
            "Using cached nvidia_curand_cu12-10.3.2.106-py3-none-manylinux1_x86_64.whl (56.5 MB)\n",
            "Using cached nvidia_cusolver_cu12-11.4.5.107-py3-none-manylinux1_x86_64.whl (124.2 MB)\n",
            "Using cached nvidia_cusparse_cu12-12.1.0.106-py3-none-manylinux1_x86_64.whl (196.0 MB)\n",
            "Using cached nvidia_nccl_cu12-2.20.5-py3-none-manylinux2014_x86_64.whl (176.2 MB)\n",
            "Using cached nvidia_nvtx_cu12-12.1.105-py3-none-manylinux1_x86_64.whl (99 kB)\n",
            "Downloading nvidia_nvjitlink_cu12-12.6.20-py3-none-manylinux2014_x86_64.whl (19.7 MB)\n",
            "\u001b[2K   \u001b[90m━━━━━━━━━━━━━━━━━━━━━━━━━━━━━━━━━━━━━━━━\u001b[0m \u001b[32m19.7/19.7 MB\u001b[0m \u001b[31m18.2 MB/s\u001b[0m eta \u001b[36m0:00:00\u001b[0m\n",
            "\u001b[?25hInstalling collected packages: nvidia-nvtx-cu12, nvidia-nvjitlink-cu12, nvidia-nccl-cu12, nvidia-curand-cu12, nvidia-cufft-cu12, nvidia-cuda-runtime-cu12, nvidia-cuda-nvrtc-cu12, nvidia-cuda-cupti-cu12, nvidia-cublas-cu12, nvidia-cusparse-cu12, nvidia-cudnn-cu12, nvidia-cusolver-cu12\n",
            "Successfully installed nvidia-cublas-cu12-12.1.3.1 nvidia-cuda-cupti-cu12-12.1.105 nvidia-cuda-nvrtc-cu12-12.1.105 nvidia-cuda-runtime-cu12-12.1.105 nvidia-cudnn-cu12-8.9.2.26 nvidia-cufft-cu12-11.0.2.54 nvidia-curand-cu12-10.3.2.106 nvidia-cusolver-cu12-11.4.5.107 nvidia-cusparse-cu12-12.1.0.106 nvidia-nccl-cu12-2.20.5 nvidia-nvjitlink-cu12-12.6.20 nvidia-nvtx-cu12-12.1.105\n",
            "Collecting colorama\n",
            "  Downloading colorama-0.4.6-py2.py3-none-any.whl.metadata (17 kB)\n",
            "Downloading colorama-0.4.6-py2.py3-none-any.whl (25 kB)\n",
            "Installing collected packages: colorama\n",
            "Successfully installed colorama-0.4.6\n"
          ]
        }
      ]
    },
    {
      "cell_type": "code",
      "source": [
        "from colorama import Fore, Back, Style\n",
        "import numpy as np\n",
        "from IPython.display import HTML, display\n",
        "import pandas as pd\n",
        "import seaborn as sns\n",
        "import matplotlib.pyplot as plt\n",
        "%matplotlib inline"
      ],
      "metadata": {
        "id": "XSz2yzdqGDK7"
      },
      "execution_count": 2,
      "outputs": []
    },
    {
      "cell_type": "markdown",
      "source": [
        "# Load Model"
      ],
      "metadata": {
        "id": "f4TuKzemHQpO"
      }
    },
    {
      "cell_type": "markdown",
      "source": [
        "Modelos empregado aqui:\n",
        "\n",
        "Souza, F., Nogueira, R., & Lotufo, R. (2020). BERTimbau: pretrained BERT models for Brazilian Portuguese. In 9th Brazilian Conference on Intelligent Systems, BRACIS, Rio Grande do Sul, Brazil, October 20-23 (to appear).\n",
        "\n",
        "Conneau, A., Khandelwal, K., Goyal, N., Chaudhary, V., Wenzek, G., Guzmán, F., Grave, E., Ott, M., Zettlemoyer, L., & Stoyanov, V. (2019). Unsupervised cross-lingual representation learning at scale. CoRR, abs/1911.02116. http://arxiv.org/abs/1911.02116\n",
        "\n",
        "Zhang, X., Malkov, Y., Florez, O., Park, S., McWilliams, B., Han, J., & El-Kishky, A. (2022). TwHIN-BERT: A socially-enriched pre-trained language model for multilingual tweet representations. arXiv preprint arXiv:2209.07562.\n"
      ],
      "metadata": {
        "id": "y-F6V4crMaYi"
      }
    },
    {
      "cell_type": "code",
      "source": [
        "import torch\n",
        "from transformers import AutoTokenizer, AutoModelForCausalLM\n",
        "\n",
        "# Empregue um modelo multilingue\n",
        "model_name = 'neuralmind/bert-large-portuguese-cased'\n",
        "# model_name = 'FacebookAI/xlm-roberta-base'\n",
        "# model_name = 'Twitter/twhin-bert-base'\n",
        "\n",
        "tokenizer = AutoTokenizer.from_pretrained(model_name)\n",
        "model = AutoModelForCausalLM.from_pretrained(model_name)\n",
        "\n",
        "print()\n",
        "print(Fore.GREEN + Style.BRIGHT + model_name)\n",
        "print(Fore.BLACK + Style.RESET_ALL)\n",
        "print(model.config)"
      ],
      "metadata": {
        "colab": {
          "base_uri": "https://localhost:8080/"
        },
        "id": "3JjmnItHQtrM",
        "outputId": "35aede88-5dcf-4972-c0e4-a7ed4a529eb1"
      },
      "execution_count": 65,
      "outputs": [
        {
          "output_type": "stream",
          "name": "stderr",
          "text": [
            "If you want to use `BertLMHeadModel` as a standalone, add `is_decoder=True.`\n"
          ]
        },
        {
          "output_type": "stream",
          "name": "stdout",
          "text": [
            "\n",
            "\u001b[32m\u001b[1mneuralmind/bert-large-portuguese-cased\n",
            "\u001b[30m\u001b[0m\n",
            "BertConfig {\n",
            "  \"_name_or_path\": \"neuralmind/bert-large-portuguese-cased\",\n",
            "  \"architectures\": [\n",
            "    \"BertForMaskedLM\"\n",
            "  ],\n",
            "  \"attention_probs_dropout_prob\": 0.1,\n",
            "  \"classifier_dropout\": null,\n",
            "  \"directionality\": \"bidi\",\n",
            "  \"hidden_act\": \"gelu\",\n",
            "  \"hidden_dropout_prob\": 0.1,\n",
            "  \"hidden_size\": 1024,\n",
            "  \"initializer_range\": 0.02,\n",
            "  \"intermediate_size\": 4096,\n",
            "  \"layer_norm_eps\": 1e-12,\n",
            "  \"max_position_embeddings\": 512,\n",
            "  \"model_type\": \"bert\",\n",
            "  \"num_attention_heads\": 16,\n",
            "  \"num_hidden_layers\": 24,\n",
            "  \"output_past\": true,\n",
            "  \"pad_token_id\": 0,\n",
            "  \"pooler_fc_size\": 768,\n",
            "  \"pooler_num_attention_heads\": 12,\n",
            "  \"pooler_num_fc_layers\": 3,\n",
            "  \"pooler_size_per_head\": 128,\n",
            "  \"pooler_type\": \"first_token_transform\",\n",
            "  \"position_embedding_type\": \"absolute\",\n",
            "  \"transformers_version\": \"4.42.4\",\n",
            "  \"type_vocab_size\": 2,\n",
            "  \"use_cache\": true,\n",
            "  \"vocab_size\": 29794\n",
            "}\n",
            "\n"
          ]
        }
      ]
    },
    {
      "cell_type": "markdown",
      "source": [
        "## Change loaded models"
      ],
      "metadata": {
        "id": "Pzi32ocKYN2q"
      }
    },
    {
      "cell_type": "code",
      "source": [
        "# Change loaded models\n",
        "# tokenizer = models['FacebookAI/xlm-roberta-base']['tokenizer']\n",
        "# model = models['FacebookAI/xlm-roberta-base']['model']\n",
        "tokenizer = models['neuralmind/bert-large-portuguese-cased']['tokenizer']\n",
        "model = models['neuralmind/bert-large-portuguese-cased']['model']"
      ],
      "metadata": {
        "id": "GtuEQnBNP22Y"
      },
      "execution_count": 74,
      "outputs": []
    },
    {
      "cell_type": "code",
      "source": [
        "if 'models' not in locals():\n",
        "  models = {}\n",
        "  print(\"vector of models created\")\n",
        "\n",
        "models[model_name] = {'model':model,'tokenizer':tokenizer}\n",
        "\n",
        "for m in models.keys():\n",
        "\n",
        "  print()\n",
        "  print(Fore.GREEN + Style.BRIGHT + m)\n",
        "  print(Fore.BLACK + Style.RESET_ALL)\n",
        "  print(models[m]['model'].config)"
      ],
      "metadata": {
        "colab": {
          "base_uri": "https://localhost:8080/"
        },
        "id": "7ldkWyasTvGi",
        "outputId": "5996a96b-5fe4-437b-c573-847f406da1c8"
      },
      "execution_count": 59,
      "outputs": [
        {
          "output_type": "stream",
          "name": "stdout",
          "text": [
            "\n",
            "\u001b[32m\u001b[1mFacebookAI/xlm-roberta-base\n",
            "\u001b[30m\u001b[0m\n",
            "XLMRobertaConfig {\n",
            "  \"_name_or_path\": \"FacebookAI/xlm-roberta-base\",\n",
            "  \"architectures\": [\n",
            "    \"XLMRobertaForMaskedLM\"\n",
            "  ],\n",
            "  \"attention_probs_dropout_prob\": 0.1,\n",
            "  \"bos_token_id\": 0,\n",
            "  \"classifier_dropout\": null,\n",
            "  \"eos_token_id\": 2,\n",
            "  \"hidden_act\": \"gelu\",\n",
            "  \"hidden_dropout_prob\": 0.1,\n",
            "  \"hidden_size\": 768,\n",
            "  \"initializer_range\": 0.02,\n",
            "  \"intermediate_size\": 3072,\n",
            "  \"layer_norm_eps\": 1e-05,\n",
            "  \"max_position_embeddings\": 514,\n",
            "  \"model_type\": \"xlm-roberta\",\n",
            "  \"num_attention_heads\": 12,\n",
            "  \"num_hidden_layers\": 12,\n",
            "  \"output_past\": true,\n",
            "  \"pad_token_id\": 1,\n",
            "  \"position_embedding_type\": \"absolute\",\n",
            "  \"transformers_version\": \"4.42.4\",\n",
            "  \"type_vocab_size\": 1,\n",
            "  \"use_cache\": true,\n",
            "  \"vocab_size\": 250002\n",
            "}\n",
            "\n",
            "\n",
            "\u001b[32m\u001b[1mTwitter/twhin-bert-base\n",
            "\u001b[30m\u001b[0m\n",
            "BertConfig {\n",
            "  \"_name_or_path\": \"Twitter/twhin-bert-base\",\n",
            "  \"architectures\": [\n",
            "    \"BertForMaskedLM\"\n",
            "  ],\n",
            "  \"attention_probs_dropout_prob\": 0.1,\n",
            "  \"classifier_dropout\": null,\n",
            "  \"hidden_act\": \"gelu\",\n",
            "  \"hidden_dropout_prob\": 0.1,\n",
            "  \"hidden_size\": 768,\n",
            "  \"initializer_range\": 0.02,\n",
            "  \"intermediate_size\": 3072,\n",
            "  \"layer_norm_eps\": 1e-12,\n",
            "  \"max_position_embeddings\": 512,\n",
            "  \"model_type\": \"bert\",\n",
            "  \"num_attention_heads\": 12,\n",
            "  \"num_hidden_layers\": 12,\n",
            "  \"pad_token_id\": 0,\n",
            "  \"position_embedding_type\": \"relative_key\",\n",
            "  \"torch_dtype\": \"float32\",\n",
            "  \"transformers_version\": \"4.42.4\",\n",
            "  \"type_vocab_size\": 2,\n",
            "  \"use_cache\": true,\n",
            "  \"vocab_size\": 250002\n",
            "}\n",
            "\n",
            "\n",
            "\u001b[32m\u001b[1mneuralmind/bert-large-portuguese-cased\n",
            "\u001b[30m\u001b[0m\n",
            "BertConfig {\n",
            "  \"_name_or_path\": \"neuralmind/bert-large-portuguese-cased\",\n",
            "  \"architectures\": [\n",
            "    \"BertForMaskedLM\"\n",
            "  ],\n",
            "  \"attention_probs_dropout_prob\": 0.1,\n",
            "  \"classifier_dropout\": null,\n",
            "  \"directionality\": \"bidi\",\n",
            "  \"hidden_act\": \"gelu\",\n",
            "  \"hidden_dropout_prob\": 0.1,\n",
            "  \"hidden_size\": 1024,\n",
            "  \"initializer_range\": 0.02,\n",
            "  \"intermediate_size\": 4096,\n",
            "  \"layer_norm_eps\": 1e-12,\n",
            "  \"max_position_embeddings\": 512,\n",
            "  \"model_type\": \"bert\",\n",
            "  \"num_attention_heads\": 16,\n",
            "  \"num_hidden_layers\": 24,\n",
            "  \"output_past\": true,\n",
            "  \"pad_token_id\": 0,\n",
            "  \"pooler_fc_size\": 768,\n",
            "  \"pooler_num_attention_heads\": 12,\n",
            "  \"pooler_num_fc_layers\": 3,\n",
            "  \"pooler_size_per_head\": 128,\n",
            "  \"pooler_type\": \"first_token_transform\",\n",
            "  \"position_embedding_type\": \"absolute\",\n",
            "  \"transformers_version\": \"4.42.4\",\n",
            "  \"type_vocab_size\": 2,\n",
            "  \"use_cache\": true,\n",
            "  \"vocab_size\": 29794\n",
            "}\n",
            "\n"
          ]
        }
      ]
    },
    {
      "cell_type": "markdown",
      "source": [
        "# Tokens\n",
        "\n",
        "> **Exemplo**. Considere a frase \"*O gato subiu no telhado.*\" que empregaremos em muitos dos exemplos a seguir. A seguir os tokens produzidos para essa frase com o modelo  BERTimbau (Souza, et al. 2020) e com o modelo RoBERTa (Conneau, et al. 2019).  \n",
        "\n",
        "```\n",
        "neuralmind/bert-large-portuguese-cased\n",
        "TOKENS...\n",
        "\n",
        "Frase: \t \t \t O gato subiu no telhado.\n",
        "Tokens: \t \t [101, 231, 15997, 10996, 202, 16267, 119, 102]\n",
        "Tokens decodificados: \t ['[CLS]', 'O', 'gato', 'subiu', 'no', 'telhado', '.', '[SEP]']\n",
        "```\n",
        "\n",
        "```\n",
        "\n",
        "FacebookAI/xlm-roberta-base\n",
        "TOKENS...\n",
        "\n",
        "Frase: \t \t \t O gato subiu no telhado.\n",
        "Tokens: \t \t [0, 180, 125583, 1614, 3214, 110, 120, 178261, 5, 2]\n",
        "Tokens decodificados: \t ['<s>', '▁O', '▁gato', '▁sub', 'iu', '▁no', '▁te', 'lhado', '.', '</s>']\n",
        "```\n",
        "<br>\n",
        "\n",
        "> O primeiro tem um dicionário de 29794 tokens, enquanto o segundo tem 250002 tokens, sendo o número atribuído a cada elemento a ordem desse elemento dentro do dicionário. O tamanho do dicionário pode ter grande influência no resultado do modelo, assim como muitos outros elementos (do conjunto de dados com que foi treinado, tamanho dos embeddings, ao número de elementos da rede e muitas outras características).\n",
        "\n",
        "> Note ainda que existem tokens especiais, como para início de linha ou fim de linha, também diferentes para cada modelo, e mais adiante o token [MASK] presente em alguns modelos como o BERTimbau, é empregado para identificar um termo que se deseja buscar para completar uma frase."
      ],
      "metadata": {
        "id": "YelUZGnzHYJa"
      }
    },
    {
      "cell_type": "code",
      "source": [
        "# Frase de exemplo em português\n",
        "text = \"O gato subiu no telhado.\"\n",
        "# text = \"O gato é preto\"\n",
        "\n",
        "inputs = tokenizer(text, return_tensors='pt')\n",
        "\n",
        "# model.config.num_attention_heads = 2\n",
        "# model.config.num_hidden_layers = 2\n",
        "\n",
        "# Exibe tokens\n",
        "tokens = inputs['input_ids'][0].tolist()\n",
        "\n",
        "print()\n",
        "print(Fore.GREEN + Style.BRIGHT + model_name)\n",
        "print('TOKENS...')\n",
        "print(Fore.BLACK + Style.RESET_ALL)\n",
        "\n",
        "print(f'Frase: \\t \\t \\t {text}')\n",
        "print(f'Tokens: \\t \\t {tokens}')\n",
        "print(f'Tokens decodificados: \\t {tokenizer.convert_ids_to_tokens(tokens)}')"
      ],
      "metadata": {
        "colab": {
          "base_uri": "https://localhost:8080/"
        },
        "id": "kHFsVYuj1ZtA",
        "outputId": "ed6c2c6c-7a89-484a-eac6-b1302117e344"
      },
      "execution_count": 75,
      "outputs": [
        {
          "output_type": "stream",
          "name": "stdout",
          "text": [
            "\n",
            "\u001b[32m\u001b[1mneuralmind/bert-large-portuguese-cased\n",
            "TOKENS...\n",
            "\u001b[30m\u001b[0m\n",
            "Frase: \t \t \t O gato subiu no telhado.\n",
            "Tokens: \t \t [101, 231, 15997, 10996, 202, 16267, 119, 102]\n",
            "Tokens decodificados: \t ['[CLS]', 'O', 'gato', 'subiu', 'no', 'telhado', '.', '[SEP]']\n"
          ]
        }
      ]
    },
    {
      "cell_type": "markdown",
      "source": [
        "# Original Embedding\n",
        "\n",
        "**Embedding**. Para cada token há uma representação vetorial que é construída no treinamento do modelo. A ideia é que tokens com significados similares tenham vetores de embeddings próximos em um espaço de alta dimensão.\n",
        "\n",
        "> **Exemplo**. Ainda empregando a frase \"*O gato subiu no telhado.*\" o modelo  BERTimbau produz uma representação para cada token em um espaço de 1024 dimensões, e você pode entender isso como redução da dimensionalidade de uma representação hot-encode no dicionário de 29794 tokens. O resultado é mostrado a seguir e a figura 2 ilustra os vetores produzidos representando duas de suas dimensões.\n",
        "\n",
        "```\n",
        "neuralmind/bert-large-portuguese-cased\n",
        "ORIGINAL EMBEDDING\n",
        "\n",
        "Shape: torch.Size([1, 8, 1024])\n",
        "\n",
        "Token: [CLS] \t Embedding: [-0.02961911 -0.07202422 -0.01172108  0.07297876  0.05633415]...\n",
        "Token: O \t Embedding: [ 0.34585622  0.22677943  0.35944712 -0.0551781   0.595255  ]...\n",
        "Token: gato \t Embedding: [ 0.40602586  0.14462513  0.07746317 -0.26340458  0.01107934]...\n",
        "Token: subiu \t Embedding: [ 0.50578034  0.05258946 -0.09580195  0.04407303 -0.7718447 ]...\n",
        "Token: no \t Embedding: [ 0.13058272 -0.10045748 -0.11667304  0.36672533  0.528329  ]...\n",
        "Token: telhado \t Embedding: [ 0.17081173 -0.01978896  0.48070785  0.05147301 -0.422269  ]...\n",
        "Token: . \t Embedding: [ 0.07668269 -0.43907836  0.33977434 -0.575404   -0.12276405]...\n",
        "Token: [SEP] \t Embedding: [-0.30919597  0.16961755  0.15184121  0.0987095  -0.01029588]...\n",
        "\n",
        "*apenas os 5 primeiros valores de cada vetor é exibido\n",
        "```\n",
        "\n",
        "> Já o modelo RoBERTa, gera uma representação de 768, ainda mais compacta, uma vez que existem 250002 tokens em sua representação. Note que a representação muda de modelo para modelo, mas em mesmo modelo, o token referente a \"gato\", tem o mesmo embedding *inicial* de entrada tanto na frase \"O gato subiu no telhado\" como na frase \"O gato é preto\". A figura 2 Embeddings, ou representação vetorial dos tokens, em um espaço de alta dimensão. Aqui, representadas apenas as primeiras duas dimensões, já que os modelos empregam vetores de centenas de entradas (nos exemplos, o BERTimbau, 1024 e o RoBERTa, 768)."
      ],
      "metadata": {
        "id": "mqFGeQ3KHb_P"
      }
    },
    {
      "cell_type": "code",
      "source": [
        "# Captura as representações intermediárias\n",
        "def get_intermediate_representations(model, inputs):\n",
        "    model_outputs = model(**inputs, output_hidden_states=True, return_dict=True, output_attentions=True)\n",
        "    hidden_states = model_outputs.hidden_states\n",
        "    attentions = model_outputs.attentions\n",
        "    return hidden_states, attentions\n",
        "\n",
        "# Executa o modelo e capturar as representações intermediárias\n",
        "with torch.no_grad():\n",
        "    hidden_states, attentions = get_intermediate_representations(model, inputs)\n",
        "\n",
        "# Extrai as representações da camada oculta\n",
        "# hidden_state = hidden_states[-1] # last\n",
        "hidden_state = hidden_states[0] # first\n",
        "\n",
        "print()\n",
        "print(Fore.GREEN + Style.BRIGHT + model_name)\n",
        "print('ORIGINAL EMBEDDING')\n",
        "print(Fore.BLACK + Style.RESET_ALL)\n",
        "\n",
        "# Mostra as representações para cada token\n",
        "print(f'Shape: {hidden_state.shape}\\n')\n",
        "for i, token in enumerate(tokens):\n",
        "    token_decoded = tokenizer.decode([token])\n",
        "    token_representation = hidden_state[0, i, :].numpy()\n",
        "    print(f'Token: {token_decoded} \\t Embedding: {token_representation[:5]}...')\n",
        "\n",
        "print()\n",
        "print('*apenas os 5 primeiros valores de cada vetor é exibido')\n",
        "\n"
      ],
      "metadata": {
        "colab": {
          "base_uri": "https://localhost:8080/"
        },
        "id": "e9PKhwLGTJdu",
        "outputId": "ae0b89fa-e288-4846-db24-a94fa7f282b9"
      },
      "execution_count": 76,
      "outputs": [
        {
          "output_type": "stream",
          "name": "stdout",
          "text": [
            "\n",
            "\u001b[32m\u001b[1mneuralmind/bert-large-portuguese-cased\n",
            "ORIGINAL EMBEDDING\n",
            "\u001b[30m\u001b[0m\n",
            "Shape: torch.Size([1, 8, 1024])\n",
            "\n",
            "Token: [CLS] \t Embedding: [-0.02961911 -0.07202422 -0.01172108  0.07297876  0.05633415]...\n",
            "Token: O \t Embedding: [ 0.34585622  0.22677943  0.35944712 -0.0551781   0.595255  ]...\n",
            "Token: gato \t Embedding: [ 0.40602586  0.14462513  0.07746317 -0.26340458  0.01107934]...\n",
            "Token: subiu \t Embedding: [ 0.50578034  0.05258946 -0.09580195  0.04407303 -0.7718447 ]...\n",
            "Token: no \t Embedding: [ 0.13058272 -0.10045748 -0.11667304  0.36672533  0.528329  ]...\n",
            "Token: telhado \t Embedding: [ 0.17081173 -0.01978896  0.48070785  0.05147301 -0.422269  ]...\n",
            "Token: . \t Embedding: [ 0.07668269 -0.43907836  0.33977434 -0.575404   -0.12276405]...\n",
            "Token: [SEP] \t Embedding: [-0.30919597  0.16961755  0.15184121  0.0987095  -0.01029588]...\n",
            "\n",
            "*apenas os 5 primeiros valores de cada vetor é exibido\n"
          ]
        }
      ]
    },
    {
      "cell_type": "code",
      "source": [
        "embeddings_2d = hidden_state[0, :, :2].numpy()\n",
        "\n",
        "print()\n",
        "print(Fore.GREEN + Style.BRIGHT + model_name)\n",
        "print('ORIGINAL EMBEDDING... representação vetorial, duas primeiras dimensões')\n",
        "print(Fore.BLACK + Style.RESET_ALL)\n",
        "\n",
        "plt.figure(figsize=(4, 3))\n",
        "\n",
        "for i, token in enumerate(tokens):\n",
        "    token_decoded = tokenizer.decode([token])\n",
        "    x, y = embeddings_2d[i]\n",
        "    plt.arrow(0, 0, x, y, head_width=0.02, head_length=0.04, length_includes_head=True)\n",
        "    plt.text(x, y, token_decoded)\n",
        "\n",
        "plt.xlabel('Token[0]')\n",
        "plt.ylabel('Token[1]')\n",
        "plt.title('Tokens Embeddings [0:2]',fontsize=10,weight='bold')\n",
        "plt.xlim(-.5, .5)\n",
        "plt.ylim(-.5, .5)\n",
        "\n",
        "plt.tight_layout()\n",
        "plt.show()\n"
      ],
      "metadata": {
        "colab": {
          "base_uri": "https://localhost:8080/",
          "height": 380
        },
        "id": "THldIh9LYkji",
        "outputId": "4dc81c2e-d9cb-4e4a-f392-b303c67730a4"
      },
      "execution_count": 77,
      "outputs": [
        {
          "output_type": "stream",
          "name": "stdout",
          "text": [
            "\n",
            "\u001b[32m\u001b[1mneuralmind/bert-large-portuguese-cased\n",
            "ORIGINAL EMBEDDING... representação vetorial, duas primeiras dimensões\n",
            "\u001b[30m\u001b[0m\n"
          ]
        },
        {
          "output_type": "display_data",
          "data": {
            "text/plain": [
              "<Figure size 400x300 with 1 Axes>"
            ],
            "image/png": "[encoded data removed]"
          },
          "metadata": {}
        }
      ]
    },
    {
      "cell_type": "markdown",
      "source": [
        "**Figura 2.** Embeddings, ou representação vetorial dos tokens, em um espaço de alta dimensão. Aqui, representadas apenas as primeiras duas dimensões, já que os modelos empregam vetores de centenas de entradas (nos exemplos, o BERTimbau, 1024 e o RoBERTa, 768)."
      ],
      "metadata": {
        "id": "eIxfpVyHZr4R"
      }
    },
    {
      "cell_type": "code",
      "source": [
        "from sklearn.decomposition import PCA\n",
        "\n",
        "# 2 componentes principais\n",
        "pca = PCA(n_components=2)\n",
        "embeddings_pca = pca.fit_transform(hidden_state[0].numpy())\n",
        "\n",
        "embeddings_pca[:,0] = embeddings_pca[:,0] / embeddings_pca[:,0].max()\n",
        "embeddings_pca[:,1] = embeddings_pca[:,1] / embeddings_pca[:,1].max()\n",
        "\n",
        "print()\n",
        "print(Fore.GREEN + Style.BRIGHT + model_name)\n",
        "print('ORIGINAL EMBEDDING... representação vetorial em 2 componentes principais (PCA)')\n",
        "print(Fore.BLACK + Style.RESET_ALL)\n",
        "\n",
        "plt.figure(figsize=(4, 3))\n",
        "\n",
        "for i, token in enumerate(tokens):\n",
        "    token_decoded = tokenizer.decode([token])\n",
        "    x, y = embeddings_2d[i]\n",
        "    plt.arrow(0, 0, embeddings_pca[i, 0], embeddings_pca[i, 1], head_width=0.05, head_length=0.1, length_includes_head=True)\n",
        "    plt.annotate(token_decoded, (embeddings_pca[i, 0], embeddings_pca[i, 1]))\n",
        "    # plt.text(x, y, token_decoded)\n",
        "\n",
        "plt.xlabel('PCA 1')\n",
        "plt.ylabel('PCA 2')\n",
        "plt.title('Tokens Embeddings - 2 PCA',fontsize=9,weight='bold')\n",
        "# plt.xlim(-.5, .5)\n",
        "# plt.ylim(-.5, .5)\n",
        "\n",
        "plt.tight_layout()\n",
        "plt.show()"
      ],
      "metadata": {
        "colab": {
          "base_uri": "https://localhost:8080/",
          "height": 380
        },
        "id": "T2XlaAq9amqj",
        "outputId": "a53f59db-e829-41d7-a825-3d3b0a1ca272"
      },
      "execution_count": 47,
      "outputs": [
        {
          "output_type": "stream",
          "name": "stdout",
          "text": [
            "\n",
            "\u001b[32m\u001b[1mneuralmind/bert-large-portuguese-cased\n",
            "ORIGINAL EMBEDDING... representação vetorial em 2 componentes principais (PCA)\n",
            "\u001b[30m\u001b[0m\n"
          ]
        },
        {
          "output_type": "display_data",
          "data": {
            "text/plain": [
              "<Figure size 400x300 with 1 Axes>"
            ],
            "image/png": "[encoded data removed]"
          },
          "metadata": {}
        }
      ]
    },
    {
      "cell_type": "markdown",
      "source": [
        "# Attention\n",
        "\n",
        "O passo seguinte na arquitetura transformers é criar um novo embedding dos tokens, que leve em consideração os demais tokens que participam da texto ponderada pela dependência de um token com relação ao outro. Em outros termos $ E_{gato}[i+1] = \\sum_{t = \\text{all tokens}} A{_{t}}[i]E{_{t}}[i]$, onde $E_t$ representam sucessivos embeddings e $A_t$ e o vetor de atenção  de cada token. Diferentemente do embedding *inicial*, o mesmo para a palavra gato tanto na frase \"O gato subiu no telhado\" como na frase \"O gato é preto\", esse novo embedding será diferente para cada diferente contexto em que o mesmo termo aparecer, pois carrega com ele todos os termos da sequência e a relação entre eles, sendo esse o grande diferencial e poder dessa arquitetura.\n",
        "\n",
        "**Atenção.** O mecanismo de atenção permite ao modelo focar em diferentes partes da entrada ao processar cada token e, assim, modelar (capturar) melhor as   dependências longas entre os tokens de uma sequência.\n",
        "Considere a frase \"O gato subiu no telhado\", é de se esperar que o \"O\" tenha uma associação maior com \"gato\" do que qualquer outra palavra, assim como \"telhado\", deve estar mais relacionado ao verbo \"subiu\" do que quaiser outros termos. Esses pesos (da associação entre as palavras) são aprendidos pelo modelo durante o treinamento. O vetor de atenção é então utilizado para poderar uma nova representação (embedding) dos tokens.\n",
        "\n",
        "> **Exemplo**. A seguir os pesos de atenção gerados para cada token na frase \"O gato subiu no telhado\" com o modelo BERTimbau, já empregado antes. Ver  figuras 3 e 4 para uma apresentação gráfica desses resultados."
      ],
      "metadata": {
        "id": "KQvqAwlRLma7"
      }
    },
    {
      "cell_type": "code",
      "source": [
        "print()\n",
        "print()\n",
        "print(Fore.GREEN + Style.BRIGHT + model_name)\n",
        "print('VETORES DE ATENÇÃO...')\n",
        "print(Fore.BLACK + Style.RESET_ALL)\n",
        "\n",
        "print()\n",
        "# print(attentions[0][0, 0])\n",
        "df = pd.DataFrame(attentions[0][0, 0].detach().numpy())\n",
        "df.index = tokenizer.convert_ids_to_tokens(tokens)\n",
        "df.columns = tokenizer.convert_ids_to_tokens(tokens)\n",
        "\n",
        "df = df.round(2)\n",
        "print(df)\n",
        "print()\n",
        "print('*valores arredondados para 2 casas decimais')"
      ],
      "metadata": {
        "colab": {
          "base_uri": "https://localhost:8080/"
        },
        "id": "0TNEsm3iKN8l",
        "outputId": "a1b343f3-8cfd-457c-9003-3ab986d9e45a"
      },
      "execution_count": 78,
      "outputs": [
        {
          "output_type": "stream",
          "name": "stdout",
          "text": [
            "\n",
            "\n",
            "\u001b[32m\u001b[1mneuralmind/bert-large-portuguese-cased\n",
            "VETORES DE ATENÇÃO...\n",
            "\u001b[30m\u001b[0m\n",
            "\n",
            "         [CLS]     O  gato  subiu    no  telhado     .  [SEP]\n",
            "[CLS]     0.09  0.07  0.09   0.06  0.08     0.07  0.12   0.42\n",
            "O         0.08  0.36  0.07   0.04  0.05     0.04  0.05   0.31\n",
            "gato      0.19  0.01  0.59   0.03  0.01     0.01  0.01   0.15\n",
            "subiu     0.05  0.02  0.04   0.59  0.01     0.06  0.02   0.21\n",
            "no        0.08  0.10  0.07   0.08  0.15     0.05  0.08   0.39\n",
            "telhado   0.10  0.02  0.08   0.11  0.02     0.49  0.03   0.16\n",
            ".         0.03  0.04  0.04   0.02  0.04     0.02  0.26   0.54\n",
            "[SEP]     0.02  0.00  0.01   0.00  0.00     0.00  0.01   0.96\n",
            "\n",
            "*valores arredondados para 2 casas decimais\n"
          ]
        }
      ]
    },
    {
      "cell_type": "code",
      "source": [
        "# Exclui os tokens especiais\n",
        "colunas_excluir = ['[CLS]', '[SEP]']\n",
        "indices_excluir = ['[CLS]', '[SEP]']\n",
        "\n",
        "df = df.drop(columns=colunas_excluir, index=indices_excluir)"
      ],
      "metadata": {
        "id": "0cHal5WEMfDV"
      },
      "execution_count": 95,
      "outputs": []
    },
    {
      "cell_type": "code",
      "source": [
        "fig = plt.figure(figsize=(8, 5))\n",
        "\n",
        "ax1 = plt.subplot2grid((2, 5), (0, 0), colspan=3, rowspan=2)\n",
        "# sns.heatmap(df, cmap=\"Greys\", annot=True, fmt=\".2f\", cbar=False, ax=ax1, alpha=0.8)\n",
        "sns.heatmap(df, cmap=\"YlGnBu\", annot=True, fmt=\".2f\", cbar=False, ax=ax1, alpha=0.95)\n",
        "ax1.set_title(\"Valores de Atenção\",fontsize=10,weight='bold')\n",
        "ax1.set_xticks(ticks=np.arange(0,len(df)),labels=df.columns,fontsize=9)\n",
        "ax1.set_yticks(ticks=np.arange(0,len(df)),labels=df.columns,fontsize=9)\n",
        "ax1.set_xlabel(\"Tokens\")\n",
        "ax1.set_ylabel(\"Tokens\")\n",
        "\n",
        "ax2 = plt.subplot2grid((2, 5), (0, 3), colspan=3)\n",
        "cores_gato = plt.cm.YlGnBu(df['gato'] / df['gato'].max())\n",
        "# cores_gato = plt.cm.Greys(df['gato'] / df['gato'].max())\n",
        "sns.barplot(x=df.columns, y=df['gato'], ax=ax2, hue=df.columns, palette=list(cores_gato), legend=False, alpha=0.95)\n",
        "ax2.set_title(\"Atenção para o token $gato$\",fontsize=10,weight='bold')\n",
        "ax2.set_xlabel('')\n",
        "ax2.set_ylabel('')\n",
        "ax2.tick_params(axis='x', labelsize=9)\n",
        "ax2.tick_params(axis='y', labelsize=6)\n",
        "\n",
        "ax3 = plt.subplot2grid((2, 5), (1, 3), colspan=3)\n",
        "cores_diag = plt.cm.YlGnBu(np.diag(df) / np.diag(df).max())\n",
        "# cores_diag = plt.cm.Greys(np.diag(df) / np.diag(df).max())\n",
        "sns.barplot(x=df.columns, y=np.diag(df), ax=ax3, hue=df.columns, palette=list(cores_diag), legend=False, alpha=0.95)\n",
        "ax3.set_title(\"Auto-Atenção para cada token\",fontsize=10,weight='bold')\n",
        "ax3.set_xlabel(\"Tokens\")\n",
        "ax3.set_ylabel('')\n",
        "ax3.tick_params(axis='x', labelsize=9)\n",
        "ax3.tick_params(axis='y', labelsize=6)\n",
        "\n",
        "plt.tight_layout()\n",
        "plt.show()\n"
      ],
      "metadata": {
        "colab": {
          "base_uri": "https://localhost:8080/",
          "height": 507
        },
        "id": "dEJsQHScuxdP",
        "outputId": "39ceed02-d69a-432a-9c94-f3af1bc3be06"
      },
      "execution_count": 96,
      "outputs": [
        {
          "output_type": "display_data",
          "data": {
            "text/plain": [
              "<Figure size 800x500 with 3 Axes>"
            ],
            "image/png": "[encoded data removed]"
          },
          "metadata": {}
        }
      ]
    },
    {
      "cell_type": "markdown",
      "source": [
        "**Figura 3.** Pesos de atenção gerados para cada token na frase \"O gato subiu no telhado\" com o modelo BERTimbau (esquerda). À direita acima, apenas os valores do vetor para o token \"gato\", e os valores de auto-atenção, abaixo. Note o maior valor em ordem para gato (o sujeito), subiu (o verbo ou ação) e telhado (advérbio), seguido dos demais tokens com menores valores."
      ],
      "metadata": {
        "id": "w-wdsDr2pT8C"
      }
    },
    {
      "cell_type": "markdown",
      "source": [
        "<img src=\"https://github.com/Rogerio-mack/LLM/blob/main/figs/Attention.png?raw=true\" width=800, align=\"right\">"
      ],
      "metadata": {
        "id": "5R38sRxlxO-M"
      }
    },
    {
      "cell_type": "markdown",
      "source": [
        "**Figura 4.** Pesos de atenção gerados para o token \"gato\" na frase \"O gato subiu no telhado\" com o modelo BERTimbau. Os pesos, refletindo a dependência entre os diferentes pares de tokens com \"gato\". Vetores de cada token como esse são empregados para criar novos embeddings dos tokens incorporando informações de todos os tokens da sequência e suas dependências."
      ],
      "metadata": {
        "id": "Yg_pDXFDq998"
      }
    },
    {
      "cell_type": "markdown",
      "source": [
        "# Final Embedding\n",
        "\n",
        "**Final Embedding.** Cada token agora terá uma nova representação vetorial que incorpora as informações de todos os tokens da sequência e suas dependências. Isso cria uma representação de cada token que é adaptativa, isto é, é alterada de acordo com o contexto em que o token aparece.\n",
        "\n",
        "> **Exemplo**. A seguir a representação final dos tokens para o nosso exemplo com a frase \"O gato subiu no telhado.\" e o modelo BERTimbau. Esse processo pode envolver diversas camadas de processamento. BERTimbau, por exemplo, emprega `\"num_hidden_layers\": 24` e `\"num_attention_heads\": 16` (unidade de processamento paralelo), mas para os nossos propósitos basta entender que ao final uma representação, com as importantes características citadas antes, é produzida."
      ],
      "metadata": {
        "id": "XdN2LDvhTvSG"
      }
    },
    {
      "cell_type": "code",
      "source": [
        "# Extrai as representações da camada oculta\n",
        "hidden_state = hidden_states[-1] # last\n",
        "# hidden_state = hidden_states[0] # first\n",
        "\n",
        "print()\n",
        "print(Fore.GREEN + Style.BRIGHT + model_name)\n",
        "print('FINAL EMBEDDING...')\n",
        "print(Fore.BLACK + Style.RESET_ALL)\n",
        "\n",
        "# Mostra as representações para cada token\n",
        "print(f'Shape: {hidden_state.shape}\\n')\n",
        "for i, token in enumerate(tokens):\n",
        "    token_decoded = tokenizer.decode([token])\n",
        "    token_representation = hidden_state[0, i, :].numpy()\n",
        "    print(f'Token: {token_decoded} \\t Embedding: {token_representation[:5]}...')\n",
        "\n",
        "print()\n",
        "print('*apenas os 5 primeiros valores de cada vetor é exibido')"
      ],
      "metadata": {
        "colab": {
          "base_uri": "https://localhost:8080/"
        },
        "id": "Zwdm1Be4LtHz",
        "outputId": "21fc9b9d-8419-4874-d6d0-d888891b282d"
      },
      "execution_count": 102,
      "outputs": [
        {
          "output_type": "stream",
          "name": "stdout",
          "text": [
            "\n",
            "\u001b[32m\u001b[1mneuralmind/bert-large-portuguese-cased\n",
            "FINAL EMBEDDING...\n",
            "\u001b[30m\u001b[0m\n",
            "Shape: torch.Size([1, 8, 1024])\n",
            "\n",
            "Token: [CLS] \t Embedding: [ 0.14474559 -0.3951678  -0.27208263 -0.22588223 -0.1557024 ]...\n",
            "Token: O \t Embedding: [ 0.56511384  0.5572389  -0.13857746  0.15794633 -0.57514447]...\n",
            "Token: gato \t Embedding: [ 0.91120267  0.52934206  0.01050818 -0.42298293  0.8343992 ]...\n",
            "Token: subiu \t Embedding: [ 0.6923833   0.84159845 -0.23504539  0.08519047 -0.07571448]...\n",
            "Token: no \t Embedding: [ 0.51889616  0.42851102 -0.16189659  0.47935504 -0.7100443 ]...\n",
            "Token: telhado \t Embedding: [ 0.46867967  0.87590927 -0.5351022  -0.37858167  0.784427  ]...\n",
            "Token: . \t Embedding: [ 0.36821663  0.7553065  -0.34035742  0.40753618  0.10208642]...\n",
            "Token: [SEP] \t Embedding: [ 0.9630483   0.50642955 -0.6537497   0.01687692 -0.11627071]...\n",
            "\n",
            "*apenas os 5 primeiros valores de cada vetor é exibido\n"
          ]
        }
      ]
    },
    {
      "cell_type": "markdown",
      "source": [
        "# Predict, `mask`\n",
        "\n",
        "Suponha agora que nossa frase não está completa, \"O gato subiu no [MASK].\" onde [MASK] representa o próxima palavra (token) que desejamos prever. Podemos empregar o mesmo modelo e representação que usamos até agora para buscar os tokens que apresentam maior probabilidade de ocuparem o lugar de [MASK] no texto.  \n",
        "\n",
        "> **Exemplo**. A seguir os resultados do modelo BERTimbau para predição da *próxima palavra* na frase \"O gato subiu no ?\". Para isso o BERT emprega um token especial, [MASK]. Esse token não está presente em todos os modelos (nem todos modelos estão construídos para executar essa tarefa) ou ainda podem aparecer de modo diferente, como por exemplo <mask> no modelo RoBERTa."
      ],
      "metadata": {
        "id": "gA5tHCOZOEbd"
      }
    },
    {
      "cell_type": "code",
      "source": [
        "from transformers import pipeline\n",
        "\n",
        "pipe = pipeline('fill-mask', model=model, tokenizer=tokenizer)\n",
        "\n",
        "result = pipe('O gato subiu no [MASK].') # Bert, Twitter\n",
        "# result = pipe('O gato subiu no <mask>.') # Roberta\n",
        "\n",
        "print()\n",
        "print(Fore.GREEN + Style.BRIGHT + model_name)\n",
        "print('Predict next word...')\n",
        "print(Fore.BLACK + Style.RESET_ALL)\n",
        "\n",
        "print(pd.DataFrame(result))\n",
        "\n",
        "print(Fore.GREEN + Style.BRIGHT)\n",
        "print(pd.DataFrame(result).head(1))"
      ],
      "metadata": {
        "colab": {
          "base_uri": "https://localhost:8080/"
        },
        "id": "-jmU_gWMV4CO",
        "outputId": "b37ee574-a4f1-4ccf-9d51-1377b295430d"
      },
      "execution_count": 109,
      "outputs": [
        {
          "output_type": "stream",
          "name": "stdout",
          "text": [
            "\n",
            "\u001b[32m\u001b[1mneuralmind/bert-large-portuguese-cased\n",
            "Predict next word...\n",
            "\u001b[30m\u001b[0m\n",
            "   score  token token_str                  sequence\n",
            "0   0.36  16267   telhado  O gato subiu no telhado.\n",
            "1   0.08   8105      chão     O gato subiu no chão.\n",
            "2   0.07   3883     carro    O gato subiu no carro.\n",
            "3   0.03  16909      muro     O gato subiu no muro.\n",
            "4   0.03   5340     palco    O gato subiu no palco.\n",
            "\u001b[32m\u001b[1m\n",
            "   score  token token_str                  sequence\n",
            "0   0.36  16267   telhado  O gato subiu no telhado.\n"
          ]
        }
      ]
    },
    {
      "cell_type": "markdown",
      "source": [
        "Não obstante as inúmeras simplificações (não tratamos, dentre outros, aspectos mais detalhados das camadas, paralelismo, funções de ativação, tamanho das sequências ou normalizações), as introdução desses conceitos de forma prática permite entendermos e avaliarmos melhor o uso de grandes modelos de linguagem em nossa aplicação, e o código para o obter todos os resultados apresentados aqui com o modelo BERTimbau, pode ser encontrado no nosso repositório no GitHub, incluindo ainda os modelos RoBERTa e TwHIN-BERT (Zhang et al., 2022)."
      ],
      "metadata": {
        "id": "Rm0Tuw6azqr1"
      }
    },
    {
      "cell_type": "markdown",
      "source": [
        "## Text-Generation"
      ],
      "metadata": {
        "id": "JYse_eTdVMC9"
      }
    },
    {
      "cell_type": "code",
      "source": [
        "# Change BERT model, it doesn't support text-generation\n",
        "# pipe = pipeline('text-generation', model=model, tokenizer=tokenizer, max_length=100, truncation=True)\n",
        "\n",
        "# result = pipe('O gato subiu no')[0]['generated_text']\n",
        "# print(result)"
      ],
      "metadata": {
        "colab": {
          "base_uri": "https://localhost:8080/"
        },
        "id": "rkzPBouV-LM5",
        "outputId": "e34b664e-5105-442c-c056-49ba95a47f66"
      },
      "execution_count": 112,
      "outputs": [
        {
          "output_type": "stream",
          "name": "stderr",
          "text": [
            "Truncation was not explicitly activated but `max_length` is provided a specific value, please use `truncation=True` to explicitly truncate examples to max length. Defaulting to 'longest_first' truncation strategy. If you encode pairs of sequences (GLUE-style) with the tokenizer you can select this strategy more precisely by providing a specific strategy to `truncation`.\n"
          ]
        },
        {
          "output_type": "stream",
          "name": "stdout",
          "text": [
            "O gato subiu no no no no no no no no no no no no no no no no no no no no no no no no no no no no no no no no no no no no no ) ) ) ) ) ) ) ) ) ) ) ) ) ) ) ) ) ) ) ) ) ) ) ) ) ) ) ) ) ) ) ) ) ) ) ) ) ) ) ) ) ) ) ) ) ) ) ) séc ( ( ( ( ( ( ( ( ( ( (\n"
          ]
        }
      ]
    },
    {
      "cell_type": "markdown",
      "source": [
        "# *b. Arquiteturas transformers e tarefas*\n",
        "\n",
        "Os transformers surgiram como uma arquitetura ou *encode-decode* (Vaswani et al., 2017). Hoje, grandes modelos de linguagem podem ser divididos em três categorias conforme o uso de camadas transformers, *encode*, *decode* ou *encode-decode*, cada um tendo suas vantagens e desvantagens na execução de diferentes tarefas. Após serem treinados os modelos podem ser adaptados para uma série de tarefas que incluem em processamento de linguagem natural:\n",
        "\n",
        "1. Classificação de textos (tópicos, análise de sentimento)\n",
        "2. Perguntas-Respostas\n",
        "3. Geração de Texto\n",
        "4. Tradução\n",
        "5. Sumarização\n",
        "6. Diálogos, etc.\n",
        "\n",
        "*nota: transformers também podem ser empregados para outros domínios além de linguagem natural embora, aqui, nosso foco é restrito a esse domínio.\n",
        "\n",
        "\n",
        "\n",
        "\n"
      ],
      "metadata": {
        "id": "Zj_F3ntyyVmz"
      }
    },
    {
      "cell_type": "markdown",
      "source": [
        "# *c. Fine-Tuning*\n",
        "\n"
      ],
      "metadata": {
        "id": "xE2MkSZL586h"
      }
    },
    {
      "cell_type": "markdown",
      "source": [
        "# *d. Modelos em Saúde e Aplicações*"
      ],
      "metadata": {
        "id": "cQVZAgbb6Mxm"
      }
    },
    {
      "cell_type": "markdown",
      "source": [
        "# Usando GPT2\n",
        "\n",
        "Note este não é multilingue, portanto trata-se aqui apenas de um exercício mostrando os mesmos passos que apresentamos acima. Substitua por uma frase em inglês para ter melhores resultados."
      ],
      "metadata": {
        "id": "rrPrewuKR2Nl"
      }
    },
    {
      "cell_type": "code",
      "source": [
        "import torch\n",
        "from transformers import GPT2Tokenizer, GPT2LMHeadModel, GPT2Config\n",
        "\n",
        "# Configuração do modelo GPT-2 pequeno\n",
        "config = GPT2Config(\n",
        "    vocab_size=50257,\n",
        "    n_positions=512,\n",
        "    n_ctx=512,\n",
        "    n_embd=128,\n",
        "    n_layer=16,\n",
        "    n_head=16\n",
        ")\n",
        "\n",
        "model_name = 'gpt2'\n",
        "\n",
        "tokenizer = GPT2Tokenizer.from_pretrained('gpt2')\n",
        "model = GPT2LMHeadModel(config)\n",
        "\n",
        "print()\n",
        "print(Fore.GREEN + Style.BRIGHT + model_name)\n",
        "print(Fore.BLACK + Style.RESET_ALL)\n",
        "print(model.config)\n"
      ],
      "metadata": {
        "colab": {
          "base_uri": "https://localhost:8080/"
        },
        "id": "ZfNhDyxbw3zK",
        "outputId": "6910bb46-ab38-4f44-a13e-db134562c767"
      },
      "execution_count": 119,
      "outputs": [
        {
          "output_type": "stream",
          "name": "stdout",
          "text": [
            "\n",
            "\u001b[32m\u001b[1mgpt2\n",
            "\u001b[30m\u001b[0m\n",
            "GPT2Config {\n",
            "  \"activation_function\": \"gelu_new\",\n",
            "  \"attn_pdrop\": 0.1,\n",
            "  \"bos_token_id\": 50256,\n",
            "  \"embd_pdrop\": 0.1,\n",
            "  \"eos_token_id\": 50256,\n",
            "  \"initializer_range\": 0.02,\n",
            "  \"layer_norm_epsilon\": 1e-05,\n",
            "  \"model_type\": \"gpt2\",\n",
            "  \"n_ctx\": 512,\n",
            "  \"n_embd\": 128,\n",
            "  \"n_head\": 16,\n",
            "  \"n_inner\": null,\n",
            "  \"n_layer\": 16,\n",
            "  \"n_positions\": 512,\n",
            "  \"reorder_and_upcast_attn\": false,\n",
            "  \"resid_pdrop\": 0.1,\n",
            "  \"scale_attn_by_inverse_layer_idx\": false,\n",
            "  \"scale_attn_weights\": true,\n",
            "  \"summary_activation\": null,\n",
            "  \"summary_first_dropout\": 0.1,\n",
            "  \"summary_proj_to_labels\": true,\n",
            "  \"summary_type\": \"cls_index\",\n",
            "  \"summary_use_proj\": true,\n",
            "  \"transformers_version\": \"4.42.4\",\n",
            "  \"use_cache\": true,\n",
            "  \"vocab_size\": 50257\n",
            "}\n",
            "\n"
          ]
        }
      ]
    },
    {
      "cell_type": "markdown",
      "source": [
        "## GPT-2 Tokens"
      ],
      "metadata": {
        "id": "l9cQ_pvRTDfl"
      }
    },
    {
      "cell_type": "code",
      "source": [
        "# Frase de exemplo em português\n",
        "text = \"O gato subiu no telhado.\"\n",
        "\n",
        "inputs = tokenizer(text, return_tensors='pt')\n",
        "\n",
        "# model.config.num_attention_heads = 2\n",
        "# model.config.num_hidden_layers = 2\n",
        "\n",
        "# Exibe tokens\n",
        "tokens = inputs['input_ids'][0].tolist()\n",
        "\n",
        "print()\n",
        "print(Fore.GREEN + Style.BRIGHT + model_name)\n",
        "print('TOKENS...')\n",
        "print(Fore.BLACK + Style.RESET_ALL)\n",
        "\n",
        "print(f'Frase: \\t \\t \\t {text}')\n",
        "print(f'Tokens: \\t \\t {tokens}')\n",
        "print(f'Tokens decodificados: \\t {tokenizer.convert_ids_to_tokens(tokens)}')"
      ],
      "metadata": {
        "colab": {
          "base_uri": "https://localhost:8080/"
        },
        "outputId": "98c25fa8-01b5-4e65-8d5c-c960e4c27b5b",
        "id": "AwKdoyPUTDfv"
      },
      "execution_count": 120,
      "outputs": [
        {
          "output_type": "stream",
          "name": "stdout",
          "text": [
            "\n",
            "\u001b[32m\u001b[1mgpt2\n",
            "TOKENS...\n",
            "\u001b[30m\u001b[0m\n",
            "Frase: \t \t \t O gato subiu no telhado.\n",
            "Tokens: \t \t [46, 308, 5549, 850, 16115, 645, 13632, 71, 4533, 13]\n",
            "Tokens decodificados: \t ['O', 'Ġg', 'ato', 'Ġsub', 'iu', 'Ġno', 'Ġtel', 'h', 'ado', '.']\n"
          ]
        }
      ]
    },
    {
      "cell_type": "markdown",
      "source": [
        "## GPT-2 Original Embedding"
      ],
      "metadata": {
        "id": "53Byw7vKTDfv"
      }
    },
    {
      "cell_type": "code",
      "source": [
        "# Captura as representações intermediárias\n",
        "def get_intermediate_representations(model, inputs):\n",
        "    model_outputs = model(**inputs, output_hidden_states=True, return_dict=True, output_attentions=True)\n",
        "    hidden_states = model_outputs.hidden_states\n",
        "    attentions = model_outputs.attentions\n",
        "    return hidden_states, attentions\n",
        "\n",
        "# Executa o modelo e capturar as representações intermediárias\n",
        "with torch.no_grad():\n",
        "    hidden_states, attentions = get_intermediate_representations(model, inputs)\n",
        "\n",
        "# Extrai as representações da camada oculta\n",
        "# hidden_state = hidden_states[-1] # last\n",
        "hidden_state = hidden_states[0] # first\n",
        "\n",
        "print()\n",
        "print(Fore.GREEN + Style.BRIGHT + model_name)\n",
        "print('ORIGINAL EMBEDDING')\n",
        "print(Fore.BLACK + Style.RESET_ALL)\n",
        "\n",
        "# Mostra as representações para cada token\n",
        "print(f'Shape: {hidden_state.shape}\\n')\n",
        "for i, token in enumerate(tokens):\n",
        "    token_decoded = tokenizer.decode([token])\n",
        "    token_representation = hidden_state[0, i, :].numpy()\n",
        "    print(f'Token: {token_decoded} \\t Embedding: {token_representation[:5]}...')\n",
        "\n",
        "print()\n",
        "print('*apenas os 5 primeiros valores de cada vetor é exibido')\n",
        "\n"
      ],
      "metadata": {
        "colab": {
          "base_uri": "https://localhost:8080/"
        },
        "outputId": "a9dc1048-480c-4607-cde2-5ebbe257f9b8",
        "id": "vkSp1SY7TDfw"
      },
      "execution_count": 121,
      "outputs": [
        {
          "output_type": "stream",
          "name": "stdout",
          "text": [
            "\n",
            "\u001b[32m\u001b[1mgpt2\n",
            "ORIGINAL EMBEDDING\n",
            "\u001b[30m\u001b[0m\n",
            "Shape: torch.Size([1, 10, 128])\n",
            "\n",
            "Token: O \t Embedding: [-0.00288201  0.03813163  0.01609125 -0.          0.016142  ]...\n",
            "Token:  g \t Embedding: [ 0.00240122 -0.04893607  0.03419996 -0.00805439 -0.00498362]...\n",
            "Token: ato \t Embedding: [0.01564061 0.0038025  0.01576114 0.06102049 0.00926405]...\n",
            "Token:  sub \t Embedding: [-0.02171179 -0.00948324 -0.0311668  -0.01698327 -0.        ]...\n",
            "Token: iu \t Embedding: [ 0.09523561 -0.02011191  0.05649779 -0.04052588 -0.01246443]...\n",
            "Token:  no \t Embedding: [ 0.01972869  0.00201203  0.01916147  0.         -0.0542327 ]...\n",
            "Token:  tel \t Embedding: [ 0.07048467  0.01889245 -0.00894899  0.03595356  0.01504175]...\n",
            "Token: h \t Embedding: [ 0.02013207 -0.00073434 -0.03379986 -0.02553117  0.03618355]...\n",
            "Token: ado \t Embedding: [-0.00925182  0.03105847  0.00774357  0.05071235  0.        ]...\n",
            "Token: . \t Embedding: [ 0.00346573  0.0215174   0.01127904 -0.00249246  0.0101226 ]...\n",
            "\n",
            "*apenas os 5 primeiros valores de cada vetor é exibido\n"
          ]
        }
      ]
    },
    {
      "cell_type": "markdown",
      "source": [
        "## GPT-2 Attention"
      ],
      "metadata": {
        "id": "yf8KGidRTDfw"
      }
    },
    {
      "cell_type": "code",
      "source": [
        "print()\n",
        "print()\n",
        "print(Fore.GREEN + Style.BRIGHT + model_name)\n",
        "print('VETORES DE ATENÇÃO...')\n",
        "print(Fore.BLACK + Style.RESET_ALL)\n",
        "\n",
        "print()\n",
        "# print(attentions[0][0, 0])\n",
        "df = pd.DataFrame(attentions[0][0, 0].detach().numpy())\n",
        "df.index = tokenizer.convert_ids_to_tokens(tokens)\n",
        "df.columns = tokenizer.convert_ids_to_tokens(tokens)\n",
        "\n",
        "df = df.round(2)\n",
        "print(df)\n",
        "print()\n",
        "print('*valores arredondados para 2 casas decimais')"
      ],
      "metadata": {
        "colab": {
          "base_uri": "https://localhost:8080/"
        },
        "outputId": "e8bd1358-7608-4578-e0e8-29e034c51f56",
        "id": "jvXJJJDhTDfw"
      },
      "execution_count": 122,
      "outputs": [
        {
          "output_type": "stream",
          "name": "stdout",
          "text": [
            "\n",
            "\n",
            "\u001b[32m\u001b[1mgpt2\n",
            "VETORES DE ATENÇÃO...\n",
            "\u001b[30m\u001b[0m\n",
            "\n",
            "         O    Ġg   ato  Ġsub    iu   Ġno  Ġtel     h   ado     .\n",
            "O     0.00  0.00  0.00  0.00  0.00  0.00  0.00  0.00  0.00  0.00\n",
            "Ġg    0.56  0.55  0.00  0.00  0.00  0.00  0.00  0.00  0.00  0.00\n",
            "ato   0.37  0.39  0.35  0.00  0.00  0.00  0.00  0.00  0.00  0.00\n",
            "Ġsub  0.28  0.28  0.28  0.27  0.00  0.00  0.00  0.00  0.00  0.00\n",
            "iu    0.22  0.22  0.23  0.22  0.00  0.00  0.00  0.00  0.00  0.00\n",
            "Ġno   0.19  0.19  0.18  0.18  0.18  0.18  0.00  0.00  0.00  0.00\n",
            "Ġtel  0.16  0.16  0.16  0.16  0.15  0.16  0.16  0.00  0.00  0.00\n",
            "h     0.14  0.14  0.14  0.00  0.14  0.14  0.13  0.15  0.00  0.00\n",
            "ado   0.12  0.13  0.12  0.00  0.13  0.00  0.12  0.12  0.12  0.00\n",
            ".     0.11  0.11  0.11  0.11  0.11  0.11  0.12  0.11  0.11  0.11\n",
            "\n",
            "*valores arredondados para 2 casas decimais\n"
          ]
        }
      ]
    },
    {
      "cell_type": "markdown",
      "source": [
        "## GPT-2 Final Embedding"
      ],
      "metadata": {
        "id": "jpyxYmrwTpne"
      }
    },
    {
      "cell_type": "code",
      "source": [
        "# Extrai as representações da camada oculta\n",
        "hidden_state = hidden_states[-1] # last\n",
        "# hidden_state = hidden_states[0] # first\n",
        "\n",
        "print()\n",
        "print(Fore.GREEN + Style.BRIGHT + model_name)\n",
        "print('FINAL EMBEDDING...')\n",
        "print(Fore.BLACK + Style.RESET_ALL)\n",
        "\n",
        "# Mostra as representações para cada token\n",
        "print(f'Shape: {hidden_state.shape}\\n')\n",
        "for i, token in enumerate(tokens):\n",
        "    token_decoded = tokenizer.decode([token])\n",
        "    token_representation = hidden_state[0, i, :].numpy()\n",
        "    print(f'Token: {token_decoded} \\t Embedding: {token_representation[:5]}...')\n",
        "\n",
        "print()\n",
        "print('*apenas os 5 primeiros valores de cada vetor é exibido')"
      ],
      "metadata": {
        "colab": {
          "base_uri": "https://localhost:8080/"
        },
        "outputId": "86fb5668-df67-49f3-904c-35435cdf063a",
        "id": "cNduUT2zTDfx"
      },
      "execution_count": 123,
      "outputs": [
        {
          "output_type": "stream",
          "name": "stdout",
          "text": [
            "\n",
            "\u001b[32m\u001b[1mgpt2\n",
            "FINAL EMBEDDING...\n",
            "\u001b[30m\u001b[0m\n",
            "Shape: torch.Size([1, 10, 128])\n",
            "\n",
            "Token: O \t Embedding: [-0.74649423  0.87751365 -1.5395728   0.3374034  -1.7767113 ]...\n",
            "Token:  g \t Embedding: [-1.2120851  -1.1629217   1.114416   -1.8773952  -0.39135736]...\n",
            "Token: ato \t Embedding: [-1.8072127   0.90978265  1.4470011   0.57110083 -0.10881299]...\n",
            "Token:  sub \t Embedding: [-3.2954347  -1.2021898  -0.97724086 -1.7531801   1.3740584 ]...\n",
            "Token: iu \t Embedding: [ 1.0421716  -1.2877972   1.9315314  -0.21268538 -0.8686753 ]...\n",
            "Token:  no \t Embedding: [-0.39365065 -0.12563007  2.2098813   0.16241606 -1.3939607 ]...\n",
            "Token:  tel \t Embedding: [1.8690989  0.35462317 0.5761661  1.2668507  0.34394512]...\n",
            "Token: h \t Embedding: [ 0.50985706 -0.28916782 -0.13188894 -0.3876659   0.72824955]...\n",
            "Token: ado \t Embedding: [-0.10425857 -0.2309089   1.0516719   1.2145306  -0.5244941 ]...\n",
            "Token: . \t Embedding: [-0.18544726  0.12877207  0.08634337 -0.15907896 -0.63802814]...\n",
            "\n",
            "*apenas os 5 primeiros valores de cada vetor é exibido\n"
          ]
        }
      ]
    },
    {
      "cell_type": "markdown",
      "source": [
        "## GPT-2 Text-Generation"
      ],
      "metadata": {
        "id": "l6ViMwSFVS4u"
      }
    },
    {
      "cell_type": "code",
      "source": [
        "# Change BERT model, it doesn't support text-generation\n",
        "pipe = pipeline('text-generation', model=model, tokenizer=tokenizer, max_length=100, truncation=True)\n",
        "\n",
        "result = pipe('O gato subiu no')[0]['generated_text']\n",
        "print(result)"
      ],
      "metadata": {
        "colab": {
          "base_uri": "https://localhost:8080/"
        },
        "outputId": "cd4ed14a-b39a-4920-9784-a8bb57d660fc",
        "id": "JHRi-YO4VS42"
      },
      "execution_count": 126,
      "outputs": [
        {
          "output_type": "stream",
          "name": "stderr",
          "text": [
            "Setting `pad_token_id` to `eos_token_id`:50256 for open-end generation.\n"
          ]
        },
        {
          "output_type": "stream",
          "name": "stdout",
          "text": [
            "O gato subiu no no no no no no boundaries boundaries boundaries boundaries boundaries boundaries boundaries boundaries boundaries boundaries boundaries boundaries boundaries boundaries boundaries boundaries boundaries boundaries boundaries boundaries boundaries boundaries boundaries boundaries boundaries boundaries boundaries boundaries boundaries boundaries boundaries boundaries boundaries boundaries boundaries boundaries boundaries boundaries boundaries boundaries boundaries boundaries boundaries boundaries boundaries boundaries boundaries boundaries boundaries boundaries boundaries boundaries boundaries boundaries boundaries boundarieskeleykeleykeleykeleykeleykeleykeleykeleykeleykeleykeleykeleykeleykeleymaresmaresmaresmaresmaresmaresmaresmaresmaresmaresmaresmaresmaresmaresmaresmaresmaresmaresmares\n"
          ]
        }
      ]
    }
  ]
}